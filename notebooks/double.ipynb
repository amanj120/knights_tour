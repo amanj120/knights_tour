{
 "cells": [
  {
   "cell_type": "code",
   "execution_count": null,
   "metadata": {},
   "outputs": [],
   "source": [
    "import numpy as np\n",
    "from numpy import int8, uint8, bool\n",
    "from numba import njit\n",
    "#Knight's Tour\n",
    "dr = np.array([2,1,-1,-2,-2,-1, 1, 2],dtype=int8) #row\n",
    "dc = np.array([1,2, 2, 1,-1,-2,-2,-1],dtype=int8) #column\n",
    "kng = np.ones((64,8), dtype=uint8)*64;\n",
    "for i in range(64):\n",
    "    r = i//8\n",
    "    c = i%8\n",
    "    idx = 0\n",
    "    for move in range(8):\n",
    "        nr = r + dr[move]\n",
    "        nc = c + dc[move]\n",
    "        if (nr >= 0 and nr < 8 and nc >= 0 and nc < 8):\n",
    "            kng[i][idx] = nr*8 + nc\n",
    "            print(kng[i][idx], end=\" \")\n",
    "            idx += 1 \n",
    "    print()"
   ]
  },
  {
   "cell_type": "code",
   "execution_count": null,
   "metadata": {},
   "outputs": [],
   "source": [
    "@njit\n",
    "def eight(fnode, bnode, fpos, bpos, visited):\n",
    "    \n",
    "    # fnode and bnode are 1 byte each, fpod and bpos can be represented in one 1 byte variable called pos,\n",
    "    # visited is a static pointer, will not be a variable\n",
    "    # this means that our stack needs to be 3 bytes * stack size (33 units deep max) > 128 byte array\n",
    "    # 128 because it's easier on the computer than 100 (probably)\n",
    "    # visited = 64 bytes\n",
    "    # degrees = 64 bytes\n",
    "    # kng = 64*8 = 512 bytes\n",
    "    \n",
    "    if (fpos == bpos): #position 32\n",
    "        visited[fnode] = 32\n",
    "        print(visited)\n",
    "        visited[fnode] = -1\n",
    "        return\n",
    "    \n",
    "    if (fnode == bnode):\n",
    "        return\n",
    "    \n",
    "    visited[fnode] = fpos\n",
    "    visited[bnode] = bpos\n",
    "    \n",
    "    for i in range(8): #8 = number of moves\n",
    "        fn = kng[fnode][i]\n",
    "        if fn == 64:\n",
    "            break\n",
    "        for j in range(8):\n",
    "            bn = kng[bnode][j]\n",
    "            if bn == 64:\n",
    "                break\n",
    "            if visited[fn] == -1 and visited[bn] == -1:\n",
    "                eight(fn, bn, fpos+1, bpos-1, visited)\n",
    "    \n",
    "    visited[fnode] = -1\n",
    "    visited[bnode] = -1\n",
    "    return   "
   ]
  },
  {
   "cell_type": "code",
   "execution_count": null,
   "metadata": {},
   "outputs": [],
   "source": [
    "visited = np.ones(shape=(64), dtype=int8) * -1\n",
    "visited[0] = 0 #start at top left\n",
    "eight(10, 17, 1, 63, visited)\n",
    "#node 10 is 1st node visited\n",
    "#node 17 is 63rd node visited"
   ]
  },
  {
   "cell_type": "code",
   "execution_count": null,
   "metadata": {},
   "outputs": [],
   "source": []
  }
 ],
 "metadata": {
  "kernelspec": {
   "display_name": "Python 3",
   "language": "python",
   "name": "python3"
  },
  "language_info": {
   "codemirror_mode": {
    "name": "ipython",
    "version": 3
   },
   "file_extension": ".py",
   "mimetype": "text/x-python",
   "name": "python",
   "nbconvert_exporter": "python",
   "pygments_lexer": "ipython3",
   "version": "3.8.2"
  }
 },
 "nbformat": 4,
 "nbformat_minor": 4
}
