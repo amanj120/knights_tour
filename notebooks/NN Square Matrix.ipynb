{
 "cells": [
  {
   "cell_type": "code",
   "execution_count": 1,
   "metadata": {},
   "outputs": [],
   "source": [
    "import numpy as np\n",
    "from numba import njit\n",
    "from random import randint\n",
    "from time import time\n",
    "from re import search"
   ]
  },
  {
   "cell_type": "code",
   "execution_count": 31,
   "metadata": {},
   "outputs": [],
   "source": [
    "@njit()\n",
    "def run():\n",
    "    d = np.zeros((64,64), dtype=np.uint8) #only 1 or 0\n",
    "    u = np.zeros((64,64), dtype=np.int8) #can be negative\n",
    "    v = np.zeros((64,64), dtype=np.uint8) #only 1 or 0\n",
    "    s = np.zeros(64,dtype=np.uint8)\n",
    "    m = np.int8(-4)\n",
    "\n",
    "    for i in range(64): #initialize\n",
    "        for j in range(64):\n",
    "            x = (i//8)-(j//8)\n",
    "            y = (i%8)-(j%8)\n",
    "            if(((x*x)+(y*y))==5):\n",
    "                d[i][j] = 1\n",
    "                d[j][i] = 1\n",
    "                v[i][j] = randint(0,1)\n",
    "                v[j][i] = v[i][j]\n",
    "    \n",
    "    for counter in range(100000):\n",
    "        for i in range(64):\n",
    "            s[i] = np.sum(v[i]) #option 2: do the for loop\n",
    "\n",
    "        for i in range(64):\n",
    "            for j in range(64):\n",
    "                if d[i][j]:\n",
    "                    u[i][j] += (4-s[i]-s[j])\n",
    "                    v[i][j] = (u[i][j]>3)+(u[i][j]&m==0)*(v[i][j]) \n",
    "                    # ^ fastest way I think\n",
    "        \n",
    "        if counter % 2000 == 0:\n",
    "            if np.max(np.absolute(u)) > 100: \n",
    "                print(\"diverge\")\n",
    "                return [(np.int64(x), np.int64(x)) for x in range(0)]\n",
    "            b = 0\n",
    "            for i in range(64):\n",
    "                for j in range(64):\n",
    "                    b += np.absolute(d[i][j]*(4-(s[i]+s[j])))     \n",
    "            if b == 0:\n",
    "                soln = [(np.int64(x), np.int64(x)) for x in range(0)]\n",
    "                for i in range(64):\n",
    "                    for j in range(i+1,64):\n",
    "                        if v[i][j]:\n",
    "                            soln.append((i,j))\n",
    "                return soln\n",
    "    return [(np.int64(x), np.int64(x)) for x in range(0)]"
   ]
  },
  {
   "cell_type": "code",
   "execution_count": 32,
   "metadata": {},
   "outputs": [],
   "source": [
    "def get_sol():\n",
    "    start = time()\n",
    "    runs = 0;\n",
    "    while True:\n",
    "        soln = run() #list of edges\n",
    "        runs += 1;\n",
    "        if len(soln) > 0:\n",
    "            sol = [1] + [0]*63\n",
    "            cur=0\n",
    "            for q in range(1,64):\n",
    "                for edge in soln:\n",
    "                    if cur in edge:\n",
    "                        oth = edge[0] if edge[1] == cur else edge[1]\n",
    "                    if sol[oth]==0:\n",
    "                        sol[oth]=q+1;\n",
    "                        cur=oth\n",
    "                        break\n",
    "#             if 0 not in sol:\n",
    "            return \"\".join([\"{:>2} \".format(sol[i]) + (\"\\n\" if (i%8==7) else \"\") for i in range(64)]) + \"{:.2f} seconds {} runs\\n\".format(time()-start, runs)"
   ]
  },
  {
   "cell_type": "code",
   "execution_count": 33,
   "metadata": {},
   "outputs": [],
   "source": [
    "def big_run(N):\n",
    "    for i in range(N):\n",
    "        print(\"{} out of {} finished\".format(i,N), end=\"\\r\");\n",
    "        f = open(\"fastnn.txt\",\"a\")\n",
    "        f.write(get_sol())\n",
    "        f.close()\n",
    "    analyze()"
   ]
  },
  {
   "cell_type": "code",
   "execution_count": 34,
   "metadata": {},
   "outputs": [],
   "source": [
    "def analyze():\n",
    "    f = open(\"fastnn.txt\",\"r\")\n",
    "    s = f.read().split(\"\\n\")\n",
    "    f.close()\n",
    "    npt = np.array(sorted([float(time_taken.split(' ')[0]) for time_taken in s if search(\"[0-9.]+ seconds\",time_taken) is not None]))\n",
    "    print(\"len: {}\\navg: {}\\nstd: {}\\nmed: {}\\n85th: {}\".format(len(npt),np.average(npt), np.std(npt), np.median(npt), np.percentile(npt,85)))"
   ]
  },
  {
   "cell_type": "code",
   "execution_count": 37,
   "metadata": {},
   "outputs": [
    {
     "name": "stdout",
     "output_type": "stream",
     "text": [
      " 1  0 15 10  3  8 25 22 \n",
      "14 11  2  0 26 23  4  7 \n",
      " 0 60 13 16  9  6 21 24 \n",
      "12 17  0 27 56 19 44  5 \n",
      "59 32 55 18 45 42 49 20 \n",
      "54 35 30 57 28 39 46 43 \n",
      "31 58 33 52 37 48 41 50 \n",
      "34 53 36 29 40 51 38 47 \n",
      "5.16 seconds 7 runs\n",
      "\n"
     ]
    }
   ],
   "source": [
    "print(get_sol())"
   ]
  },
  {
   "cell_type": "code",
   "execution_count": 12,
   "metadata": {},
   "outputs": [
    {
     "name": "stdout",
     "output_type": "stream",
     "text": [
      "len: 1000\n",
      "avg: 18.37755\n",
      "std: 18.467005374383252\n",
      "med: 13.0\n",
      "85th: 35.0\n"
     ]
    }
   ],
   "source": [
    "analyze()"
   ]
  },
  {
   "cell_type": "code",
   "execution_count": null,
   "metadata": {},
   "outputs": [],
   "source": []
  }
 ],
 "metadata": {
  "kernelspec": {
   "display_name": "Python 3",
   "language": "python",
   "name": "python3"
  },
  "language_info": {
   "codemirror_mode": {
    "name": "ipython",
    "version": 3
   },
   "file_extension": ".py",
   "mimetype": "text/x-python",
   "name": "python",
   "nbconvert_exporter": "python",
   "pygments_lexer": "ipython3",
   "version": "3.8.2"
  }
 },
 "nbformat": 4,
 "nbformat_minor": 4
}
