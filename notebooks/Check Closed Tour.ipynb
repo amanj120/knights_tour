{
 "cells": [
  {
   "cell_type": "code",
   "execution_count": null,
   "metadata": {},
   "outputs": [],
   "source": [
    "s = '''0 37 30 51 16 55  8 53 29 32  1 36  9 52 15 56 38 63 34 31 50 17 54  7\n",
    " 33 28 49  2 35 10 57 14 24 39 62 43 18 13  6 11 27 44 25 48  3 60 19 58\n",
    " 40 23 46 61 42 21 12  5 45 26 41 22 47  4 59 20'''\n",
    "first = [int(ss) for ss in filter(lambda x: x != '', s.replace('\\n',' ').split(' '))]\n",
    "\n",
    "for i in range(8):\n",
    "    for j in range(8):\n",
    "        print(str(first[i*8 + j]).rjust(2) + \": \" + str(i*8+j).ljust(2) , end = ' | ')\n",
    "    print()\n",
    "print()\n",
    "# square number, position\n",
    "l = sorted(list(enumerate(first)), key = lambda x: x[1])\n",
    "# print(l)\n",
    "\n",
    "start = 0\n",
    "nnext = 10\n",
    "order = list(range(64))\n",
    "\n",
    "for i in range(1, 63):\n",
    "    order[start] = nnext\n",
    "    start = l[i][0]\n",
    "    nnext = l[i+1][0]\n",
    "\n",
    "for o in order:\n",
    "    print(o)\n",
    "\n",
    "# print(sorted(list(enumerate(order)), key = lambda x: x[1]))"
   ]
  },
  {
   "cell_type": "code",
   "execution_count": null,
   "metadata": {},
   "outputs": [],
   "source": [
    "def check_closed_tour(board):\n",
    "    b = list(range(64))\n",
    "    \n",
    "    for bb in b:\n",
    "        if bb not in board:\n",
    "            return False\n",
    "    \n",
    "    for i in range(8):\n",
    "        for j in range(8):\n",
    "            position = board[i*8+j]\n",
    "            b[position] = (i,j)\n",
    "    for i in range(64):\n",
    "        dx = abs(b[i%64][0] - b[(i+1)%64][0])\n",
    "        dy = abs(b[i%64][1] - b[(i+1)%64][1])\n",
    "        if max(dx,dy) != 2 or min(dx,dy) != 1:\n",
    "            return False\n",
    "    return True\n",
    "        "
   ]
  },
  {
   "cell_type": "code",
   "execution_count": null,
   "metadata": {},
   "outputs": [],
   "source": [
    "eights = open(\"e3.txt\").read().replace(\"\\n\",\" \")\n",
    "l = []\n",
    "idx = 1\n",
    "while(eights.find(']') != -1):\n",
    "    if idx%100==0:\n",
    "        print(idx, end=\"\\r\")\n",
    "    idx += 1\n",
    "    rbrack = eights.find(']')\n",
    "    lbrack = eights.find('[')\n",
    "    temp = eights[lbrack+1:rbrack]\n",
    "    eights = eights[rbrack+1:]\n",
    "    temp2 = [int(t) for t in temp.split(' ') if t != '']\n",
    "    if len(temp2)!= 64 or not check_closed_tour(temp2):\n",
    "        print(temp2)"
   ]
  },
  {
   "cell_type": "code",
   "execution_count": null,
   "metadata": {},
   "outputs": [],
   "source": [
    "# for i in l:\n",
    "#     for j in range(8):\n",
    "#         for k in range(8):\n",
    "#             print(str(i[j*8+k]).rjust(2), end=' ')\n",
    "#         print()\n",
    "#     print()"
   ]
  }
 ],
 "metadata": {
  "kernelspec": {
   "display_name": "Python 3",
   "language": "python",
   "name": "python3"
  },
  "language_info": {
   "codemirror_mode": {
    "name": "ipython",
    "version": 3
   },
   "file_extension": ".py",
   "mimetype": "text/x-python",
   "name": "python",
   "nbconvert_exporter": "python",
   "pygments_lexer": "ipython3",
   "version": "3.8.2"
  }
 },
 "nbformat": 4,
 "nbformat_minor": 4
}
