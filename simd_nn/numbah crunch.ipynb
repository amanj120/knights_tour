{
 "cells": [
  {
   "cell_type": "code",
   "execution_count": 56,
   "metadata": {},
   "outputs": [],
   "source": [
    "import numpy as np\n",
    "import matplotlib.pyplot as plt\n",
    "%matplotlib inline"
   ]
  },
  {
   "cell_type": "code",
   "execution_count": 57,
   "metadata": {},
   "outputs": [],
   "source": [
    "f = open(\"out.txt\", \"r\")\n",
    "a_text = f.read()\n",
    "f.close()\n",
    "lines = a_text.split('\\n')[:-1]\n",
    "assert (len(lines)) % 10 == 0\n",
    "num_lines = len(lines)//10\n",
    "\n",
    "data = []\n",
    "for i in range(num_lines):\n",
    "    start_idx = i*10;\n",
    "    line_num_iters = lines[start_idx]\n",
    "    line_time_trials = lines[start_idx+9]\n",
    "    line_time = line_time_trials.split(':')[0]\n",
    "    line_trials = line_time_trials.split(':')[1]\n",
    "    num_iters = int(line_num_iters.split(' ')[0])\n",
    "    time = float(line_time.split(' ')[0])\n",
    "    trials = int(line_trials.split(' ')[1])\n",
    "    data.append((num_iters, time, trials))"
   ]
  },
  {
   "cell_type": "code",
   "execution_count": 58,
   "metadata": {},
   "outputs": [
    {
     "data": {
      "text/plain": [
       "0.5808800000000139"
      ]
     },
     "execution_count": 58,
     "metadata": {},
     "output_type": "execute_result"
    }
   ],
   "source": [
    "times = [d[1] for d in data]\n",
    "sum(times)/len(data)"
   ]
  },
  {
   "cell_type": "code",
   "execution_count": 59,
   "metadata": {},
   "outputs": [
    {
     "data": {
      "text/plain": [
       "{10000: [524.8899999999986, 155301, 1000],\n",
       " 50000: [415.52000000000345, 24813, 1000],\n",
       " 100000: [447.64000000000345, 13373, 1000],\n",
       " 150000: [488.7099999999964, 9677, 1000],\n",
       " 160000: [589.0300000000029, 11029, 1000],\n",
       " 170000: [545.8400000000008, 9533, 1000],\n",
       " 180000: [549.5200000000004, 9127, 1000],\n",
       " 190000: [562.3600000000004, 8878, 1000],\n",
       " 200000: [607.6500000000001, 9062, 1000],\n",
       " 210000: [139.22999999999954, 1982, 250],\n",
       " 220000: [147.91999999999987, 1995, 250],\n",
       " 230000: [160.82999999999998, 2101, 250],\n",
       " 240000: [162.67000000000007, 2034, 250],\n",
       " 250000: [178.2700000000001, 2136, 250],\n",
       " 20000: [546.889999999999, 81219, 1000],\n",
       " 30000: [592.7299999999996, 58746, 1000],\n",
       " 40000: [392.8299999999992, 29075, 1000],\n",
       " 60000: [465.5800000000017, 23198, 1000],\n",
       " 70000: [447.56999999999493, 19009, 1000],\n",
       " 80000: [480.5500000000044, 17789, 1000],\n",
       " 90000: [447.5799999999948, 14808, 1000],\n",
       " 110000: [450.440000000005, 12179, 1000],\n",
       " 120000: [460.4200000000019, 11457, 1000],\n",
       " 130000: [489.50999999999806, 11253, 1000],\n",
       " 140000: [531.5099999999953, 11309, 1000]}"
      ]
     },
     "execution_count": 59,
     "metadata": {},
     "output_type": "execute_result"
    }
   ],
   "source": [
    "size_graph = {}\n",
    "for d in data:\n",
    "    size = d[0]\n",
    "    if size in size_graph:\n",
    "        size_graph[size][0] += d[1]\n",
    "        size_graph[size][1] += d[2]\n",
    "        size_graph[size][2] += 1\n",
    "    elif size <= 250000:\n",
    "        size_graph[size] = [d[1],d[2], 1]\n",
    "size_graph"
   ]
  },
  {
   "cell_type": "code",
   "execution_count": 64,
   "metadata": {},
   "outputs": [
    {
     "data": {
      "text/plain": [
       "1.22"
      ]
     },
     "execution_count": 64,
     "metadata": {},
     "output_type": "execute_result"
    }
   ],
   "source": [
    "round(1.222223, 2)"
   ]
  },
  {
   "cell_type": "code",
   "execution_count": 65,
   "metadata": {},
   "outputs": [
    {
     "data": {
      "image/png": "[encoded data removed]",
      "text/plain": [
       "<Figure size 432x288 with 1 Axes>"
      ]
     },
     "metadata": {
      "needs_background": "light"
     },
     "output_type": "display_data"
    }
   ],
   "source": [
    "avg_time_per_nn = []\n",
    "for sg in size_graph:\n",
    "    avg_time_per_nn.append((sg, round(size_graph[sg][0]/size_graph[sg][2], 2)))\n",
    "avg_time_per_nn.sort(key= lambda x : x[0])\n",
    "\n",
    "x = [a[0] for a in avg_time_per_nn]\n",
    "y = [a[1] for a in avg_time_per_nn]\n",
    "plt.plot(x,y, color='black')\n",
    "plt.show()"
   ]
  },
  {
   "cell_type": "code",
   "execution_count": 66,
   "metadata": {},
   "outputs": [
    {
     "data": {
      "text/plain": [
       "[(10000, 0.52),\n",
       " (20000, 0.55),\n",
       " (30000, 0.59),\n",
       " (40000, 0.39),\n",
       " (50000, 0.42),\n",
       " (60000, 0.47),\n",
       " (70000, 0.45),\n",
       " (80000, 0.48),\n",
       " (90000, 0.45),\n",
       " (100000, 0.45),\n",
       " (110000, 0.45),\n",
       " (120000, 0.46),\n",
       " (130000, 0.49),\n",
       " (140000, 0.53),\n",
       " (150000, 0.49),\n",
       " (160000, 0.59),\n",
       " (170000, 0.55),\n",
       " (180000, 0.55),\n",
       " (190000, 0.56),\n",
       " (200000, 0.61),\n",
       " (210000, 0.56),\n",
       " (220000, 0.59),\n",
       " (230000, 0.64),\n",
       " (240000, 0.65),\n",
       " (250000, 0.71)]"
      ]
     },
     "execution_count": 66,
     "metadata": {},
     "output_type": "execute_result"
    }
   ],
   "source": [
    "avg_time_per_nn"
   ]
  },
  {
   "cell_type": "code",
   "execution_count": 69,
   "metadata": {},
   "outputs": [
    {
     "data": {
      "text/plain": [
       "0.41250000000000003"
      ]
     },
     "execution_count": 69,
     "metadata": {},
     "output_type": "execute_result"
    }
   ],
   "source": [
    "25 * 0.0033*5"
   ]
  },
  {
   "cell_type": "code",
   "execution_count": 62,
   "metadata": {},
   "outputs": [
    {
     "data": {
      "text/plain": [
       "[(10000, 155.301),\n",
       " (20000, 81.219),\n",
       " (30000, 58.746),\n",
       " (40000, 29.075),\n",
       " (50000, 24.813),\n",
       " (60000, 23.198),\n",
       " (70000, 19.009),\n",
       " (80000, 17.789),\n",
       " (90000, 14.808),\n",
       " (100000, 13.373),\n",
       " (110000, 12.179),\n",
       " (120000, 11.457),\n",
       " (130000, 11.253),\n",
       " (140000, 11.309),\n",
       " (150000, 9.677),\n",
       " (160000, 11.029),\n",
       " (170000, 9.533),\n",
       " (180000, 9.127),\n",
       " (190000, 8.878),\n",
       " (200000, 9.062),\n",
       " (210000, 7.928),\n",
       " (220000, 7.98),\n",
       " (230000, 8.404),\n",
       " (240000, 8.136),\n",
       " (250000, 8.544)]"
      ]
     },
     "execution_count": 62,
     "metadata": {},
     "output_type": "execute_result"
    }
   ],
   "source": [
    "avg_trial_per_size = []\n",
    "for sg in size_graph:\n",
    "    avg_trial_per_size.append((sg, size_graph[sg][1]/size_graph[sg][2]))\n",
    "avg_trial_per_size.sort(key= lambda x : x[0])\n",
    "avg_trial_per_size"
   ]
  },
  {
   "cell_type": "code",
   "execution_count": 63,
   "metadata": {},
   "outputs": [
    {
     "data": {
      "text/plain": [
       "[<matplotlib.lines.Line2D at 0x7fe30e7d5f40>]"
      ]
     },
     "execution_count": 63,
     "metadata": {},
     "output_type": "execute_result"
    },
    {
     "data": {
      "image/png": "[encoded data removed]",
      "text/plain": [
       "<Figure size 432x288 with 1 Axes>"
      ]
     },
     "metadata": {
      "needs_background": "light"
     },
     "output_type": "display_data"
    }
   ],
   "source": [
    "x = [a[0] for a in avg_trial_per_size]\n",
    "y = [a[1] for a in avg_trial_per_size]\n",
    "plt.plot(x,y)"
   ]
  },
  {
   "cell_type": "code",
   "execution_count": 50,
   "metadata": {},
   "outputs": [
    {
     "data": {
      "text/plain": [
       "[(10000, 0.0033798236972073497),\n",
       " (20000, 0.006734146563732675),\n",
       " (30000, 0.01009735216558898),\n",
       " (40000, 0.013522822331332954),\n",
       " (50000, 0.016747848608906463),\n",
       " (60000, 0.020074515648286217),\n",
       " (70000, 0.023514933628318326),\n",
       " (80000, 0.027040081603264366),\n",
       " (90000, 0.030235977872697675),\n",
       " (100000, 0.03346247736042231),\n",
       " (110000, 0.03701400899342829),\n",
       " (120000, 0.04020800879684795),\n",
       " (130000, 0.04351655567019964),\n",
       " (140000, 0.04701651818856677),\n",
       " (150000, 0.05052393760086034),\n",
       " (160000, 0.05341844660194208),\n",
       " (170000, 0.057295991213619085),\n",
       " (180000, 0.060206232813932406),\n",
       " (190000, 0.06333840037418134),\n",
       " (200000, 0.06709303686366284),\n",
       " (210000, 0.0702472250252268),\n",
       " (220000, 0.07414536340852124),\n",
       " (230000, 0.07654926225606853),\n",
       " (240000, 0.07997541789577191),\n",
       " (250000, 0.0834597378277154)]"
      ]
     },
     "execution_count": 50,
     "metadata": {},
     "output_type": "execute_result"
    }
   ],
   "source": [
    "avg_time_per_iter_per_size = []\n",
    "for sg in size_graph:\n",
    "    avg_time_per_iter_per_size.append((sg, size_graph[sg][0]/size_graph[sg][1]))\n",
    "avg_time_per_iter_per_size.sort(key= lambda x : x[0])\n",
    "avg_time_per_iter_per_size"
   ]
  },
  {
   "cell_type": "code",
   "execution_count": 51,
   "metadata": {},
   "outputs": [
    {
     "data": {
      "text/plain": [
       "[<matplotlib.lines.Line2D at 0x7fe30e86b040>]"
      ]
     },
     "execution_count": 51,
     "metadata": {},
     "output_type": "execute_result"
    },
    {
     "data": {
      "image/png": "[encoded data removed]",
      "text/plain": [
       "<Figure size 432x288 with 1 Axes>"
      ]
     },
     "metadata": {
      "needs_background": "light"
     },
     "output_type": "display_data"
    }
   ],
   "source": [
    "x = [a[0] for a in avg_time_per_iter_per_size]\n",
    "y = [a[1] for a in avg_time_per_iter_per_size]\n",
    "plt.plot(x,y)"
   ]
  },
  {
   "cell_type": "code",
   "execution_count": null,
   "metadata": {},
   "outputs": [],
   "source": [
    "# Almost exaclty a straight line, meaning each 10,000 iterations is some scalar multiple of some time unit\n",
    "# roughly 0.0033 seconds"
   ]
  }
 ],
 "metadata": {
  "kernelspec": {
   "display_name": "Python 3",
   "language": "python",
   "name": "python3"
  },
  "language_info": {
   "codemirror_mode": {
    "name": "ipython",
    "version": 3
   },
   "file_extension": ".py",
   "mimetype": "text/x-python",
   "name": "python",
   "nbconvert_exporter": "python",
   "pygments_lexer": "ipython3",
   "version": "3.8.2"
  }
 },
 "nbformat": 4,
 "nbformat_minor": 4
}
