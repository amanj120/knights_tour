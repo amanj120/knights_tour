{
 "cells": [
  {
   "cell_type": "code",
   "execution_count": 2,
   "metadata": {},
   "outputs": [
    {
     "name": "stdout",
     "output_type": "stream",
     "text": [
      " 0 41 44 15 52 39 36  9 \n",
      "43 16  1 40 45  8 53 38 \n",
      " 2 63 42 51 14 37 10 35 \n",
      "17 20  3 62  7 46 13 54 \n",
      " 4 61 18 21 50 55 34 11 \n",
      "19 22 29  6 27 12 47 56 \n",
      "60  5 24 31 58 49 26 33 \n",
      "23 30 59 28 25 32 57 48 \n",
      "148 ms 14 runs\n"
     ]
    }
   ],
   "source": [
    "s = ''' 0 41 44 15 52 39 36  9 \n",
    "43 16  1 40 45  8 53 38 \n",
    " 2 63 42 51 14 37 10 35 \n",
    "17 20  3 62  7 46 13 54 \n",
    " 4 61 18 21 50 55 34 11 \n",
    "19 22 29  6 27 12 47 56 \n",
    "60  5 24 31 58 49 26 33 \n",
    "23 30 59 28 25 32 57 48 \n",
    "148 ms 14 runs'''\n",
    "\n",
    "print(s)"
   ]
  },
  {
   "cell_type": "code",
   "execution_count": 10,
   "metadata": {},
   "outputs": [
    {
     "data": {
      "text/plain": [
       "[[0, 41, 44, 15, 52, 39, 36, 9],\n",
       " [43, 16, 1, 40, 45, 8, 53, 38],\n",
       " [2, 63, 42, 51, 14, 37, 10, 35],\n",
       " [17, 20, 3, 62, 7, 46, 13, 54],\n",
       " [4, 61, 18, 21, 50, 55, 34, 11],\n",
       " [19, 22, 29, 6, 27, 12, 47, 56],\n",
       " [60, 5, 24, 31, 58, 49, 26, 33],\n",
       " [23, 30, 59, 28, 25, 32, 57, 48]]"
      ]
     },
     "execution_count": 10,
     "metadata": {},
     "output_type": "execute_result"
    }
   ],
   "source": [
    "lines = s.split('\\n')[:-1]\n",
    "nums = [list(map(lambda x: int(x), filter(lambda x: x not in (' ', ''), l.split(' ')))) for l in lines]\n",
    "nums"
   ]
  },
  {
   "cell_type": "code",
   "execution_count": 14,
   "metadata": {},
   "outputs": [
    {
     "name": "stdout",
     "output_type": "stream",
     "text": [
      "<tr>\n",
      "\t<td id=\"d0\" class=\"white\">1</td>\n",
      "\t<td id=\"d41\" class=\"black\">42</td>\n",
      "\t<td id=\"d44\" class=\"white\">45</td>\n",
      "\t<td id=\"d15\" class=\"black\">16</td>\n",
      "\t<td id=\"d52\" class=\"white\">53</td>\n",
      "\t<td id=\"d39\" class=\"black\">40</td>\n",
      "\t<td id=\"d36\" class=\"white\">37</td>\n",
      "\t<td id=\"d9\" class=\"black\">10</td>\n",
      "</tr>\n",
      "<tr>\n",
      "\t<td id=\"d43\" class=\"black\">44</td>\n",
      "\t<td id=\"d16\" class=\"white\">17</td>\n",
      "\t<td id=\"d1\" class=\"black\">2</td>\n",
      "\t<td id=\"d40\" class=\"white\">41</td>\n",
      "\t<td id=\"d45\" class=\"black\">46</td>\n",
      "\t<td id=\"d8\" class=\"white\">9</td>\n",
      "\t<td id=\"d53\" class=\"black\">54</td>\n",
      "\t<td id=\"d38\" class=\"white\">39</td>\n",
      "</tr>\n",
      "<tr>\n",
      "\t<td id=\"d2\" class=\"white\">3</td>\n",
      "\t<td id=\"d63\" class=\"black\">64</td>\n",
      "\t<td id=\"d42\" class=\"white\">43</td>\n",
      "\t<td id=\"d51\" class=\"black\">52</td>\n",
      "\t<td id=\"d14\" class=\"white\">15</td>\n",
      "\t<td id=\"d37\" class=\"black\">38</td>\n",
      "\t<td id=\"d10\" class=\"white\">11</td>\n",
      "\t<td id=\"d35\" class=\"black\">36</td>\n",
      "</tr>\n",
      "<tr>\n",
      "\t<td id=\"d17\" class=\"black\">18</td>\n",
      "\t<td id=\"d20\" class=\"white\">21</td>\n",
      "\t<td id=\"d3\" class=\"black\">4</td>\n",
      "\t<td id=\"d62\" class=\"white\">63</td>\n",
      "\t<td id=\"d7\" class=\"black\">8</td>\n",
      "\t<td id=\"d46\" class=\"white\">47</td>\n",
      "\t<td id=\"d13\" class=\"black\">14</td>\n",
      "\t<td id=\"d54\" class=\"white\">55</td>\n",
      "</tr>\n",
      "<tr>\n",
      "\t<td id=\"d4\" class=\"white\">5</td>\n",
      "\t<td id=\"d61\" class=\"black\">62</td>\n",
      "\t<td id=\"d18\" class=\"white\">19</td>\n",
      "\t<td id=\"d21\" class=\"black\">22</td>\n",
      "\t<td id=\"d50\" class=\"white\">51</td>\n",
      "\t<td id=\"d55\" class=\"black\">56</td>\n",
      "\t<td id=\"d34\" class=\"white\">35</td>\n",
      "\t<td id=\"d11\" class=\"black\">12</td>\n",
      "</tr>\n",
      "<tr>\n",
      "\t<td id=\"d19\" class=\"black\">20</td>\n",
      "\t<td id=\"d22\" class=\"white\">23</td>\n",
      "\t<td id=\"d29\" class=\"black\">30</td>\n",
      "\t<td id=\"d6\" class=\"white\">7</td>\n",
      "\t<td id=\"d27\" class=\"black\">28</td>\n",
      "\t<td id=\"d12\" class=\"white\">13</td>\n",
      "\t<td id=\"d47\" class=\"black\">48</td>\n",
      "\t<td id=\"d56\" class=\"white\">57</td>\n",
      "</tr>\n",
      "<tr>\n",
      "\t<td id=\"d60\" class=\"white\">61</td>\n",
      "\t<td id=\"d5\" class=\"black\">6</td>\n",
      "\t<td id=\"d24\" class=\"white\">25</td>\n",
      "\t<td id=\"d31\" class=\"black\">32</td>\n",
      "\t<td id=\"d58\" class=\"white\">59</td>\n",
      "\t<td id=\"d49\" class=\"black\">50</td>\n",
      "\t<td id=\"d26\" class=\"white\">27</td>\n",
      "\t<td id=\"d33\" class=\"black\">34</td>\n",
      "</tr>\n",
      "<tr>\n",
      "\t<td id=\"d23\" class=\"black\">24</td>\n",
      "\t<td id=\"d30\" class=\"white\">31</td>\n",
      "\t<td id=\"d59\" class=\"black\">60</td>\n",
      "\t<td id=\"d28\" class=\"white\">29</td>\n",
      "\t<td id=\"d25\" class=\"black\">26</td>\n",
      "\t<td id=\"d32\" class=\"white\">33</td>\n",
      "\t<td id=\"d57\" class=\"black\">58</td>\n",
      "\t<td id=\"d48\" class=\"white\">49</td>\n",
      "</tr>\n"
     ]
    }
   ],
   "source": [
    "bw = 0;\n",
    "for i in range(8):\n",
    "    print(\"<tr>\")\n",
    "    bw += 1;\n",
    "    for j in range(8):\n",
    "        print('\\t<td id=\"d{}\" class=\"{}\">{}</td>'.format(nums[i][j],\"white\" if bw%2 == 1 else \"black\", nums[i][j]+1))\n",
    "        bw += 1;\n",
    "    print(\"</tr>\")    "
   ]
  },
  {
   "cell_type": "code",
   "execution_count": null,
   "metadata": {},
   "outputs": [],
   "source": []
  }
 ],
 "metadata": {
  "kernelspec": {
   "display_name": "Python 3",
   "language": "python",
   "name": "python3"
  },
  "language_info": {
   "codemirror_mode": {
    "name": "ipython",
    "version": 3
   },
   "file_extension": ".py",
   "mimetype": "text/x-python",
   "name": "python",
   "nbconvert_exporter": "python",
   "pygments_lexer": "ipython3",
   "version": "3.8.2"
  }
 },
 "nbformat": 4,
 "nbformat_minor": 4
}
