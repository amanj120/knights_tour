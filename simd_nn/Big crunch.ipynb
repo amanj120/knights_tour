{
 "cells": [
  {
   "cell_type": "code",
   "execution_count": 1,
   "metadata": {},
   "outputs": [],
   "source": [
    "from ctypes import *\n",
    "import numpy as np\n",
    "from os import path\n",
    "from numpy import int8\n",
    "from datetime import datetime"
   ]
  },
  {
   "cell_type": "code",
   "execution_count": null,
   "metadata": {},
   "outputs": [],
   "source": [
    "func = CDLL(path.abspath('k.so')).run"
   ]
  },
  {
   "cell_type": "code",
   "execution_count": null,
   "metadata": {},
   "outputs": [],
   "source": [
    "import threading"
   ]
  },
  {
   "cell_type": "code",
   "execution_count": null,
   "metadata": {},
   "outputs": [],
   "source": [
    "# for i in range(4):\n",
    "#     threading.Thread(target=thread_func, args=(15,)).start()"
   ]
  },
  {
   "cell_type": "code",
   "execution_count": null,
   "metadata": {},
   "outputs": [],
   "source": [
    "f = open(\"sols.txt\", \"a\", 1)\n",
    "chars = '#0123456789@ABCDEFGHIJKLMNOPQRSTUVWXYZabcdefghijklmnopqrstuvwxyz'\n",
    "nums = (c_int*66)()\n",
    "for i in range(5):\n",
    "    print(i, end=\"\\r\")\n",
    "    func(nums)\n",
    "    s = ''.join([chars[i-1] for i in list(nums)[:64]])\n",
    "    f.write(s)\n",
    "    f.write(\"\\n\")\n",
    "f.close()"
   ]
  },
  {
   "cell_type": "code",
   "execution_count": 3,
   "metadata": {},
   "outputs": [
    {
     "name": "stdout",
     "output_type": "stream",
     "text": [
      "2020-08-08 02:28:00.478260\n",
      "924948\n"
     ]
    }
   ],
   "source": [
    "# lsol = open(\"sols.txt\", \"r\").read().split(\"\\n\")[:-1]\n",
    "# sols = set(lsol)\n",
    "\n",
    "# start_time = datetime.now()\n",
    "# start_count = len(sols)\n",
    "print(start_time)\n",
    "print(start_count)"
   ]
  },
  {
   "cell_type": "code",
   "execution_count": 21,
   "metadata": {},
   "outputs": [
    {
     "name": "stdout",
     "output_type": "stream",
     "text": [
      "1070960\n",
      "3.653505409455958\n"
     ]
    }
   ],
   "source": [
    "cur_time = datetime.now()\n",
    "lsol = open(\"sols.txt\", \"r\").read().split(\"\\n\")[:-1]\n",
    "sols = set(lsol)\n",
    "print(len(sols))\n",
    "print((len(sols)-start_count)/((cur_time-start_time).total_seconds()))"
   ]
  },
  {
   "cell_type": "code",
   "execution_count": 12,
   "metadata": {},
   "outputs": [],
   "source": [
    "\n",
    "#with 4 running parallel, we get about 5.65-5.70\n",
    "#with 8 running parallel, we get about 6.05 - 6.20\n",
    "#with 6 running parallel we get 5.85-5.90\n",
    "#with 3 running we get 5.01"
   ]
  },
  {
   "cell_type": "code",
   "execution_count": 13,
   "metadata": {},
   "outputs": [
    {
     "data": {
      "text/plain": [
       "3585"
      ]
     },
     "execution_count": 13,
     "metadata": {},
     "output_type": "execute_result"
    }
   ],
   "source": [
    "(len(lsol) - len(sols))#/(len(lsol))*100"
   ]
  },
  {
   "cell_type": "code",
   "execution_count": 20,
   "metadata": {},
   "outputs": [
    {
     "data": {
      "text/plain": [
       "1070960"
      ]
     },
     "execution_count": 20,
     "metadata": {},
     "output_type": "execute_result"
    }
   ],
   "source": [
    "f = open(\"sol_set.txt\",\"r\")\n",
    "solset = f.read().strip().split(\"\\n\")\n",
    "len(solset)"
   ]
  },
  {
   "cell_type": "code",
   "execution_count": 22,
   "metadata": {},
   "outputs": [
    {
     "data": {
      "text/plain": [
       "1048576"
      ]
     },
     "execution_count": 22,
     "metadata": {},
     "output_type": "execute_result"
    }
   ],
   "source": [
    "2**20"
   ]
  },
  {
   "cell_type": "code",
   "execution_count": null,
   "metadata": {},
   "outputs": [],
   "source": [
    "def translate_back(s):\n",
    "    return [chars.find(sc) for sc in s]\n",
    "\n",
    "def partial(s):\n",
    "    for idx,i in enumerate(s):\n",
    "        if i not in list(range(0,64,4)):\n",
    "            s[idx] = -1\n",
    "    return s"
   ]
  },
  {
   "cell_type": "code",
   "execution_count": null,
   "metadata": {},
   "outputs": [],
   "source": [
    "def print_board(board):\n",
    "    chars = ['0','1','2','3','4','5','6','7','8','9']\n",
    "    print('------------------------')\n",
    "    for i in range(8):\n",
    "        print_str = ''\n",
    "        for j in range(8):\n",
    "            num = board[i*8+j]\n",
    "            if num != -1:\n",
    "                print_str += (chars[num//10] if num//10 != 0 else ' ')\n",
    "                print_str += chars[num%10]\n",
    "                print_str += ' '\n",
    "            else:\n",
    "                print_str += '   '\n",
    "        print(print_str)\n",
    "    print('------------------------')"
   ]
  },
  {
   "cell_type": "code",
   "execution_count": null,
   "metadata": {},
   "outputs": [],
   "source": [
    "kng = np.array([\n",
    "    [17, 10, -1, -1, -1, -1, -1, -1],[18, 11, 16, -1, -1, -1, -1, -1],\n",
    "    [19, 12,  8, 17, -1, -1, -1, -1],[20, 13,  9, 18, -1, -1, -1, -1],\n",
    "    [21, 14, 10, 19, -1, -1, -1, -1],[22, 15, 11, 20, -1, -1, -1, -1],\n",
    "    [23, 12, 21, -1, -1, -1, -1, -1],[13, 22, -1, -1, -1, -1, -1, -1],\n",
    "    [25, 18,  2, -1, -1, -1, -1, -1],[26, 19,  3, 24, -1, -1, -1, -1],\n",
    "    [27, 20,  4,  0, 16, 25, -1, -1],[28, 21,  5,  1, 17, 26, -1, -1],\n",
    "    [29, 22,  6,  2, 18, 27, -1, -1],[30, 23,  7,  3, 19, 28, -1, -1],\n",
    "    [31,  4, 20, 29, -1, -1, -1, -1],[ 5, 21, 30, -1, -1, -1, -1, -1],\n",
    "    [33, 26, 10,  1, -1, -1, -1, -1],[34, 27, 11,  2,  0, 32, -1, -1],\n",
    "    [35, 28, 12,  3,  1,  8, 24, 33],[36, 29, 13,  4,  2,  9, 25, 34],\n",
    "    [37, 30, 14,  5,  3, 10, 26, 35],[38, 31, 15,  6,  4, 11, 27, 36],\n",
    "    [39,  7,  5, 12, 28, 37, -1, -1],[ 6, 13, 29, 38, -1, -1, -1, -1],\n",
    "    [41, 34, 18,  9, -1, -1, -1, -1],[42, 35, 19, 10,  8, 40, -1, -1],\n",
    "    [43, 36, 20, 11,  9, 16, 32, 41],[44, 37, 21, 12, 10, 17, 33, 42],\n",
    "    [45, 38, 22, 13, 11, 18, 34, 43],[46, 39, 23, 14, 12, 19, 35, 44],\n",
    "    [47, 15, 13, 20, 36, 45, -1, -1],[14, 21, 37, 46, -1, -1, -1, -1],\n",
    "    [49, 42, 26, 17, -1, -1, -1, -1],[50, 43, 27, 18, 16, 48, -1, -1],\n",
    "    [51, 44, 28, 19, 17, 24, 40, 49],[52, 45, 29, 20, 18, 25, 41, 50],\n",
    "    [53, 46, 30, 21, 19, 26, 42, 51],[54, 47, 31, 22, 20, 27, 43, 52],\n",
    "    [55, 23, 21, 28, 44, 53, -1, -1],[22, 29, 45, 54, -1, -1, -1, -1],\n",
    "    [57, 50, 34, 25, -1, -1, -1, -1],[58, 51, 35, 26, 24, 56, -1, -1],\n",
    "    [59, 52, 36, 27, 25, 32, 48, 57],[60, 53, 37, 28, 26, 33, 49, 58],\n",
    "    [61, 54, 38, 29, 27, 34, 50, 59],[62, 55, 39, 30, 28, 35, 51, 60],\n",
    "    [63, 31, 29, 36, 52, 61, -1, -1],[30, 37, 53, 62, -1, -1, -1, -1],\n",
    "    [58, 42, 33, -1, -1, -1, -1, -1],[59, 43, 34, 32, -1, -1, -1, -1],\n",
    "    [60, 44, 35, 33, 40, 56, -1, -1],[61, 45, 36, 34, 41, 57, -1, -1],\n",
    "    [62, 46, 37, 35, 42, 58, -1, -1],[63, 47, 38, 36, 43, 59, -1, -1],\n",
    "    [39, 37, 44, 60, -1, -1, -1, -1],[38, 45, 61, -1, -1, -1, -1, -1],\n",
    "    [50, 41, -1, -1, -1, -1, -1, -1],[51, 42, 40, -1, -1, -1, -1, -1],\n",
    "    [52, 43, 41, 48, -1, -1, -1, -1],[53, 44, 42, 49, -1, -1, -1, -1],\n",
    "    [54, 45, 43, 50, -1, -1, -1, -1],[55, 46, 44, 51, -1, -1, -1, -1],\n",
    "    [47, 45, 52, -1, -1, -1, -1, -1],[46, 53, -1, -1, -1, -1, -1, -1]\n",
    "], dtype=int8)\n",
    "\n",
    "degree = np.array([\n",
    "    2,3,4,4,4,4,3,2,\n",
    "    3,4,6,6,6,6,4,3,\n",
    "    4,6,8,8,8,8,6,4,\n",
    "    4,6,8,8,8,8,6,4,\n",
    "    4,6,8,8,8,8,6,4,\n",
    "    4,6,8,8,8,8,6,4,\n",
    "    3,4,6,6,6,6,4,3,\n",
    "    2,3,4,4,4,4,3,2\n",
    "], dtype=int8)\n",
    "\n",
    "order = np.array([0,4,8,12,16,20,24,28,32,36,40,44,48,52,56,60,0], dtype=int8)\n"
   ]
  },
  {
   "cell_type": "code",
   "execution_count": null,
   "metadata": {},
   "outputs": [],
   "source": [
    "def fill(idx, visited):\n",
    "    #draw a path from order[idx] to order[idx+1]\n",
    "    if idx == 16:\n",
    "        print(\"CLOSED TOUR:\")\n",
    "        print_board(visited)\n",
    "        return\n",
    "        \n",
    "    start_number = order[idx]\n",
    "    end_number = order[idx+1]\n",
    "    s1 = -1\n",
    "    s5 = -1\n",
    "    for i in range(64):\n",
    "        if visited[i] == start_number:\n",
    "            s1 = i\n",
    "        if visited[i] == end_number:\n",
    "            s5 = i\n",
    "    \n",
    "    ds1 = degree[s1]\n",
    "    ds5 = degree[s5]\n",
    "    \n",
    "    for i in range(ds1):\n",
    "        s2 = kng[s1][i]\n",
    "        if visited[s2] == -1:\n",
    "            for j in range(ds5):\n",
    "                s4 = kng[s5][j]\n",
    "                if visited[s4] == -1 and s2 != s4:\n",
    "                    ds2 = degree[s2]\n",
    "                    for k in range(ds2):\n",
    "                        s3 = kng[s2][k]\n",
    "                        if visited[s3] == -1:\n",
    "                            s3_in_kng_s4 = False\n",
    "                            for l in range(8):\n",
    "                                if kng[s4][l] == s3:\n",
    "                                    s3_in_kng_s4 = True\n",
    "                                    break;\n",
    "                            if s3_in_kng_s4 and s3 != s1 and s3 != s2 and s3 != s4 and s3 != s5:\n",
    "                                visited[s2] = start_number + 1\n",
    "                                visited[s3] = start_number + 2\n",
    "                                visited[s4] = start_number + 3\n",
    "#                                     print_board(visited)\n",
    "#                                     print(\"{} -> {} -> {} -> {} -> {}\".format(s1,s2,s3,s4,s5))\n",
    "                                fill(idx+1, visited)\n",
    "                                visited[s2] = -1\n",
    "                                visited[s3] = -1\n",
    "                                visited[s4] = -1\n",
    "    return"
   ]
  },
  {
   "cell_type": "code",
   "execution_count": null,
   "metadata": {},
   "outputs": [],
   "source": [
    "for cp in lsol:\n",
    "    p = partial(translate_back(lsol[0]))\n",
    "    print_board(p)\n",
    "    fill(0,p)"
   ]
  },
  {
   "cell_type": "code",
   "execution_count": null,
   "metadata": {},
   "outputs": [],
   "source": [
    "x = lsol[-1]"
   ]
  },
  {
   "cell_type": "code",
   "execution_count": null,
   "metadata": {},
   "outputs": [],
   "source": [
    "print_board(translate_back(x))"
   ]
  },
  {
   "cell_type": "code",
   "execution_count": null,
   "metadata": {},
   "outputs": [],
   "source": [
    "8*64"
   ]
  },
  {
   "cell_type": "code",
   "execution_count": null,
   "metadata": {},
   "outputs": [],
   "source": [
    "3*64"
   ]
  },
  {
   "cell_type": "code",
   "execution_count": null,
   "metadata": {},
   "outputs": [],
   "source": [
    "import math"
   ]
  },
  {
   "cell_type": "code",
   "execution_count": null,
   "metadata": {},
   "outputs": [],
   "source": [
    "math.log(56**32,2)"
   ]
  },
  {
   "cell_type": "code",
   "execution_count": null,
   "metadata": {},
   "outputs": [],
   "source": [
    "math.log(6.44e43, 2) #160 choose 56"
   ]
  },
  {
   "cell_type": "code",
   "execution_count": null,
   "metadata": {},
   "outputs": [],
   "source": [
    "sum(degree)/2"
   ]
  },
  {
   "cell_type": "code",
   "execution_count": null,
   "metadata": {},
   "outputs": [],
   "source": [
    "math.comb(2,2)"
   ]
  },
  {
   "cell_type": "code",
   "execution_count": null,
   "metadata": {},
   "outputs": [],
   "source": [
    "ncrd = []\n",
    "for d in degree:\n",
    "    print(\"{}: {}\".format(d, math.comb(d,2)))\n",
    "    ncrd.append(math.comb(d,2))"
   ]
  },
  {
   "cell_type": "code",
   "execution_count": null,
   "metadata": {},
   "outputs": [],
   "source": [
    "prod = 1;\n",
    "for n in ncrd:\n",
    "    prod *= n\n",
    "print(\"{:e}\".format(prod))"
   ]
  },
  {
   "cell_type": "code",
   "execution_count": null,
   "metadata": {},
   "outputs": [],
   "source": [
    "146/6"
   ]
  },
  {
   "cell_type": "code",
   "execution_count": null,
   "metadata": {},
   "outputs": [],
   "source": [
    "\"{:e}\".format((3*4*4*3*4*6*6*4*6*8*8*4*6*8*8)**4)"
   ]
  },
  {
   "cell_type": "code",
   "execution_count": null,
   "metadata": {},
   "outputs": [],
   "source": [
    "math.log(5.728352e+42, 2)"
   ]
  },
  {
   "cell_type": "code",
   "execution_count": null,
   "metadata": {},
   "outputs": [],
   "source": [
    "143/6"
   ]
  },
  {
   "cell_type": "code",
   "execution_count": null,
   "metadata": {},
   "outputs": [],
   "source": [
    "math.log(2.6e13,2)"
   ]
  },
  {
   "cell_type": "code",
   "execution_count": null,
   "metadata": {},
   "outputs": [],
   "source": [
    "math.log((8*7*7*7)**16,2)"
   ]
  },
  {
   "cell_type": "code",
   "execution_count": null,
   "metadata": {
    "scrolled": true
   },
   "outputs": [],
   "source": [
    "\"{:e}\".format(2**128)"
   ]
  },
  {
   "cell_type": "code",
   "execution_count": null,
   "metadata": {},
   "outputs": [],
   "source": [
    "math.comb(160,56)"
   ]
  },
  {
   "cell_type": "code",
   "execution_count": null,
   "metadata": {},
   "outputs": [],
   "source": [
    "math.log(math.comb(160,56), 2)"
   ]
  },
  {
   "cell_type": "code",
   "execution_count": null,
   "metadata": {},
   "outputs": [],
   "source": [
    "168/6\n",
    "import random"
   ]
  },
  {
   "cell_type": "code",
   "execution_count": null,
   "metadata": {},
   "outputs": [],
   "source": [
    "for i in range(28):\n",
    "    print(chars[random.randint(0,63)], end = \"\")"
   ]
  },
  {
   "cell_type": "code",
   "execution_count": null,
   "metadata": {},
   "outputs": [],
   "source": [
    "lsol[9]"
   ]
  },
  {
   "cell_type": "code",
   "execution_count": null,
   "metadata": {},
   "outputs": [],
   "source": [
    "# 3FVGPIRcJ5CqFVcG4kqrsNLUyeHd\n",
    "# #2iDwBg8jE03h9dA1zGxCv7fFkLU4e@cMTyHubq6lKVSP5taWNInYrQpJmXORoZs "
   ]
  },
  {
   "cell_type": "code",
   "execution_count": null,
   "metadata": {},
   "outputs": [],
   "source": [
    "28*8"
   ]
  },
  {
   "cell_type": "code",
   "execution_count": null,
   "metadata": {},
   "outputs": [],
   "source": [
    "168/8"
   ]
  },
  {
   "cell_type": "code",
   "execution_count": null,
   "metadata": {},
   "outputs": [],
   "source": [
    "(2**20)*65"
   ]
  },
  {
   "cell_type": "code",
   "execution_count": null,
   "metadata": {},
   "outputs": [],
   "source": [
    "((2**20)/65)"
   ]
  },
  {
   "cell_type": "code",
   "execution_count": null,
   "metadata": {},
   "outputs": [],
   "source": [
    "16519104*65 + 64"
   ]
  },
  {
   "cell_type": "code",
   "execution_count": null,
   "metadata": {},
   "outputs": [],
   "source": [
    "2**30"
   ]
  },
  {
   "cell_type": "code",
   "execution_count": null,
   "metadata": {},
   "outputs": [],
   "source": [
    "list(sols)[-40000]"
   ]
  },
  {
   "cell_type": "code",
   "execution_count": null,
   "metadata": {},
   "outputs": [],
   "source": []
  }
 ],
 "metadata": {
  "kernelspec": {
   "display_name": "Python 3",
   "language": "python",
   "name": "python3"
  },
  "language_info": {
   "codemirror_mode": {
    "name": "ipython",
    "version": 3
   },
   "file_extension": ".py",
   "mimetype": "text/x-python",
   "name": "python",
   "nbconvert_exporter": "python",
   "pygments_lexer": "ipython3",
   "version": "3.8.2"
  }
 },
 "nbformat": 4,
 "nbformat_minor": 4
}
