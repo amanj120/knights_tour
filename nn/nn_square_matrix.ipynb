{
 "cells": [
  {
   "cell_type": "code",
   "execution_count": null,
   "metadata": {},
   "outputs": [],
   "source": [
    "import numpy as np\n",
    "from numba import njit\n",
    "from random import randint\n",
    "import time\n",
    "import timeit"
   ]
  },
  {
   "cell_type": "code",
   "execution_count": null,
   "metadata": {},
   "outputs": [],
   "source": [
    "@njit\n",
    "def run():\n",
    "    d = np.zeros((64,64), dtype=np.int8) #only 1 or 0\n",
    "    U = np.zeros((64,64), dtype=np.int16) #can be negative\n",
    "    V = np.zeros((64,64), dtype=np.int8) #only 1 or 0\n",
    "    dU = np.zeros((64,64), dtype=np.int8)#can be negative\n",
    "    \n",
    "    for i in range(64):\n",
    "        for j in range(i+1,64):\n",
    "            dx = (i//8)-(j//8)\n",
    "            dy = (i%8)-(j%8)\n",
    "            if(((dx*dx)+(dy*dy))==5):\n",
    "                d[i][j] = 1\n",
    "                d[j][i] = 1\n",
    "                V[i][j] = randint(0,1)\n",
    "                V[j][i] = V[i][j]\n",
    "    \n",
    "    counter = 0\n",
    "    while True:\n",
    "        counter += 1\n",
    "        \n",
    "        for i in range(64):\n",
    "            for j in range(64):\n",
    "                if d[i][j] == 1:\n",
    "#                     delta = 4\n",
    "#                     for k in range(64): \n",
    "#                         #an optimization here might be to not do the sum each time, \n",
    "#                         #and instead, update the sum during the next step\n",
    "# #                         delta -= ((d[i][k]*V[i][k])+(d[j][k]*V[j][k]))\n",
    "#                         delta -= (V[i][k] + V[j][k])\n",
    "                    dU[i][j] = 4 - (np.sum(V[i]) + np.sum(V[j]))\n",
    "        \n",
    "        U = np.add(U,dU,U)\n",
    "        for i in range(64):\n",
    "            for j in range(64):\n",
    "#                 U[i][j] += dU[i][j]\n",
    "                if U[i][j] > 3:\n",
    "                    V[i][j] = 1\n",
    "                elif U[i][j] < 0:\n",
    "                    V[i][j] = 0\n",
    "                else:\n",
    "                    pass\n",
    "        \n",
    "        if counter % 1000 == 0:\n",
    "            sum_dU = np.sum(np.absolute(dU))\n",
    "            max_U = np.max(np.absolute(U))\n",
    "            if max_U > 255: \n",
    "                return [(np.int64(x), np.int64(x)) for x in range(0)]            \n",
    "            if counter > 200000:\n",
    "                return [(np.int64(x), np.int64(x)) for x in range(0)]\n",
    "            if sum_dU == 0:\n",
    "                soln = [(np.int64(x), np.int64(x)) for x in range(0)]\n",
    "                for i in range(64):\n",
    "                    for j in range(64):\n",
    "                        if V[i][j] == 1:\n",
    "                            soln.append((i,j))\n",
    "#                             print(i, j)\n",
    "                return soln"
   ]
  },
  {
   "cell_type": "code",
   "execution_count": null,
   "metadata": {},
   "outputs": [],
   "source": [
    "def get_sol():\n",
    "    while True:\n",
    "        soln = run()\n",
    "        if len(soln) > 0:\n",
    "            edges = [(min(edge),max(edge)) for edge in soln]\n",
    "            edges = sorted(list(set(edges)), key=lambda x: x[0])\n",
    "#             print(len(edges))\n",
    "            sol = np.zeros(64, dtype=np.int64)\n",
    "            sol[0]=1\n",
    "            cr=0\n",
    "            for q in range(1,64):\n",
    "                for l in range(len(edges)):\n",
    "                    if edges[l][0] == cr or edges[l][1] == cr:\n",
    "                        oth = edges[l][0] if edges[l][1] == cr else edges[l][1]\n",
    "                    if sol[oth]==0:\n",
    "                        sol[oth]=q+1;\n",
    "                        cr=oth;\n",
    "                        break\n",
    "            if 0 in sol:\n",
    "                continue\n",
    "\n",
    "            for i in range(8):\n",
    "                for j in range(8):\n",
    "                    print(str(sol[i*8+j]).ljust(2), end=' ')\n",
    "                print()\n",
    "\n",
    "            break"
   ]
  },
  {
   "cell_type": "code",
   "execution_count": null,
   "metadata": {},
   "outputs": [],
   "source": [
    "times = []\n",
    "for i in range (100):\n",
    "    start = time.time()\n",
    "    get_sol()\n",
    "    taken = int(time.time()-start)\n",
    "    print(str(taken) + \" seconds taken.\")\n",
    "    times.append(taken)"
   ]
  },
  {
   "cell_type": "code",
   "execution_count": null,
   "metadata": {},
   "outputs": [],
   "source": [
    "t = np.array(sorted(times))\n",
    "print(\"average: {}\".format(np.average(t)))\n",
    "print(\"std dev: {}\".format(np.std(t)))\n",
    "print(\"median: {}\".format(np.median(t)))\n",
    "print(\"75th percentile: {}\".format(t[74]))\n",
    "i = 0\n",
    "while t[i] <= 60 and i < len(t):\n",
    "    i+=1\n",
    "print(\"{} percent less than 1 min\".format(((i+1)*100)/len(t)))"
   ]
  },
  {
   "cell_type": "code",
   "execution_count": null,
   "metadata": {},
   "outputs": [],
   "source": [
    "t"
   ]
  },
  {
   "cell_type": "code",
   "execution_count": null,
   "metadata": {},
   "outputs": [],
   "source": []
  }
 ],
 "metadata": {
  "kernelspec": {
   "display_name": "Python 3",
   "language": "python",
   "name": "python3"
  },
  "language_info": {
   "codemirror_mode": {
    "name": "ipython",
    "version": 3
   },
   "file_extension": ".py",
   "mimetype": "text/x-python",
   "name": "python",
   "nbconvert_exporter": "python",
   "pygments_lexer": "ipython3",
   "version": "3.8.2"
  }
 },
 "nbformat": 4,
 "nbformat_minor": 4
}
