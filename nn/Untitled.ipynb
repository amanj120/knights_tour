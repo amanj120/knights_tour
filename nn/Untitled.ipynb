{
 "cells": [
  {
   "cell_type": "code",
   "execution_count": 2,
   "metadata": {},
   "outputs": [],
   "source": [
    "import PIL\n",
    "from PIL import Image\n",
    "import numpy as np"
   ]
  },
  {
   "cell_type": "code",
   "execution_count": 3,
   "metadata": {},
   "outputs": [],
   "source": [
    "knight = Image.open('icon2.png')"
   ]
  },
  {
   "cell_type": "code",
   "execution_count": 61,
   "metadata": {},
   "outputs": [],
   "source": [
    "imarr = np.array(knight)\n",
    "imarr = imarr[:500,100:400,1:4]"
   ]
  },
  {
   "cell_type": "code",
   "execution_count": 62,
   "metadata": {},
   "outputs": [
    {
     "data": {
      "image/png": "[encoded data removed]",
      "text/plain": [
       "<PIL.Image.Image image mode=RGB size=300x500 at 0x7FB8E2CCC5B0>"
      ]
     },
     "execution_count": 62,
     "metadata": {},
     "output_type": "execute_result"
    }
   ],
   "source": [
    "Image.fromarray(imarr)"
   ]
  },
  {
   "cell_type": "code",
   "execution_count": 90,
   "metadata": {},
   "outputs": [
    {
     "data": {
      "text/plain": [
       "25.0"
      ]
     },
     "execution_count": 90,
     "metadata": {},
     "output_type": "execute_result"
    }
   ],
   "source": [
    "500/20"
   ]
  },
  {
   "cell_type": "code",
   "execution_count": 64,
   "metadata": {},
   "outputs": [
    {
     "data": {
      "text/plain": [
       "6000"
      ]
     },
     "execution_count": 64,
     "metadata": {},
     "output_type": "execute_result"
    }
   ],
   "source": [
    "60 * 100"
   ]
  },
  {
   "cell_type": "code",
   "execution_count": 101,
   "metadata": {},
   "outputs": [
    {
     "name": "stdout",
     "output_type": "stream",
     "text": [
      "                                                            \n",
      "                                                            \n",
      "                                                            \n",
      "                                                            \n",
      "                                                            \n",
      "                            ###                             \n",
      "                            #####                           \n",
      "                           #######                          \n",
      "                           ########                         \n",
      "                          ###########                       \n",
      "                        ######################              \n",
      "                       #########################            \n",
      "                     #############################          \n",
      "                   ################################         \n",
      "                ####################################        \n",
      "              #######################################       \n",
      "            #########################################       \n",
      "          ############################################      \n",
      "        ###############################################     \n",
      "      #################################################     \n",
      "    ####################################################    \n",
      "  ######################################################    \n",
      "  #######################################################   \n",
      "   ############################ #########################   \n",
      "   ##########################   #########################   \n",
      "     ############# #######     ##########################   \n",
      "      #########               ###########################   \n",
      "        ###                  #############################  \n",
      "                           ###############################  \n",
      "                          ################################  \n",
      "                        ##################################  \n",
      "                      ####################################  \n",
      "                   #######################################  \n",
      "                 #########################################  \n",
      "               ###########################################  \n",
      "              ############################################  \n",
      "               ###########################################  \n",
      "                #####################################       \n",
      "                 #################################          \n",
      "                  ##############################            \n",
      "                   ############################             \n",
      "                    ##########################              \n",
      "                        #   #   #   #   #                   \n",
      "           ##########################################       \n",
      "           ##########################################       \n",
      "           ##########################################       \n",
      "           ##########################################       \n",
      "           ##########################################       \n",
      "           ##########################################       \n",
      "                                                            \n",
      "         ##############################################     \n",
      "        ################################################    \n",
      "         ###############################################    \n",
      "           ### ### ### ### ### ### ### ### ### ### ###      \n",
      "       ###################################################  \n",
      "      ####################################################  \n",
      "       ##################################################   \n",
      "                                                            \n",
      "                                                            \n",
      "                                                            \n",
      "                                                            \n",
      "                                                            \n"
     ]
    }
   ],
   "source": [
    "arr2 = np.zeros((500,300,3), dtype=np.uint8)\n",
    "\n",
    "dy = 8;\n",
    "dx = 5;\n",
    "total_pixels = 0;\n",
    "\n",
    "for i in range(500//dy):\n",
    "    for j in range(300//dx):\n",
    "        b = 0\n",
    "        rg = 0\n",
    "        for y in range(i*dy, (i+1)*dy):\n",
    "            for x in range(j*dx,(j+1)*dx):\n",
    "                b += imarr[y][x][2]\n",
    "                rg += imarr[y][x][0] + imarr[y][x][1]\n",
    "                \n",
    "        col = 255 if ((b/(dx*dy)) > 100 and (rg/(dx*dy)) < 40) else 0\n",
    "        if col == 255:\n",
    "            total_pixels += 1\n",
    "            print(\"#\", end='')\n",
    "        else:\n",
    "            print(\" \", end='')\n",
    "        for y in range(i*dy, (i+1)*dy):\n",
    "            for x in range(j*dx,(j+1)*dx):\n",
    "                arr2[y][x][0] = col;\n",
    "    print()"
   ]
  },
  {
   "cell_type": "code",
   "execution_count": 100,
   "metadata": {},
   "outputs": [
    {
     "name": "stdout",
     "output_type": "stream",
     "text": [
      "1858\n"
     ]
    },
    {
     "data": {
      "image/png": "[encoded data removed]",
      "text/plain": [
       "<PIL.Image.Image image mode=RGB size=300x500 at 0x7FB8E1E27520>"
      ]
     },
     "execution_count": 100,
     "metadata": {},
     "output_type": "execute_result"
    }
   ],
   "source": [
    "print(total_pixels)\n",
    "Image.fromarray(arr2)"
   ]
  },
  {
   "cell_type": "code",
   "execution_count": null,
   "metadata": {},
   "outputs": [],
   "source": [
    "f"
   ]
  }
 ],
 "metadata": {
  "kernelspec": {
   "display_name": "Python 3",
   "language": "python",
   "name": "python3"
  },
  "language_info": {
   "codemirror_mode": {
    "name": "ipython",
    "version": 3
   },
   "file_extension": ".py",
   "mimetype": "text/x-python",
   "name": "python",
   "nbconvert_exporter": "python",
   "pygments_lexer": "ipython3",
   "version": "3.8.2"
  }
 },
 "nbformat": 4,
 "nbformat_minor": 4
}
